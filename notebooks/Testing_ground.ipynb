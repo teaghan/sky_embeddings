{
 "cells": [
  {
   "cell_type": "code",
   "execution_count": 1,
   "id": "01a3f477-2eb6-4d5a-8324-3e171d039028",
   "metadata": {},
   "outputs": [],
   "source": [
    "import numpy as np\n",
    "import os\n",
    "import ast\n",
    "import h5py\n",
    "import matplotlib.pyplot as plt"
   ]
  },
  {
   "cell_type": "markdown",
   "id": "cb859e70-36c0-40ba-935a-e0748436ac4f",
   "metadata": {},
   "source": [
    "### Paths"
   ]
  },
  {
   "cell_type": "code",
   "execution_count": 3,
   "id": "8f917458-7fc6-4c9e-9b57-ac1d4c4dfc5e",
   "metadata": {},
   "outputs": [],
   "source": [
    "data_dir = '/home/nick/astro/sky_embeddings/data'\n",
    "file_class = 'HSC_dud_simple_classifier_data_GIRYZ7610_64.h5'\n",
    "file_regress = 'HSC_dud_simple_regressor_data_GIRYZ7610_64.h5'\n",
    "file_val = 'HSC_dud_galaxy_GIRYZ7610_64_new.h5'\n",
    "file_path_class = os.path.join(data_dir, file_class)\n",
    "file_path_regress = os.path.join(data_dir, file_regress)\n",
    "file_path_val = os.path.join(data_dir, file_val)"
   ]
  },
  {
   "cell_type": "markdown",
   "id": "727e450e-bf17-4979-8236-87cc872aeb2d",
   "metadata": {},
   "source": [
    "### Functions"
   ]
  },
  {
   "cell_type": "code",
   "execution_count": 4,
   "id": "7a9bc18d-66b9-4b77-8dfb-0fcd51d5f6b7",
   "metadata": {},
   "outputs": [],
   "source": [
    "def read_h5(cutout_dir):\n",
    "    \"\"\"\n",
    "    Reads cutout data from HDF5 file\n",
    "    :param cutout_dir: cutout directory\n",
    "    :return: cutout data\n",
    "    \"\"\"\n",
    "    with h5py.File(cutout_dir, 'r') as f:\n",
    "        # Create empty dictionaries to store data for each group\n",
    "        cutout_data = {}\n",
    "\n",
    "        # Loop through datasets\n",
    "        for dataset_name in f:\n",
    "            data = np.array(f[dataset_name])\n",
    "            cutout_data[dataset_name] = data\n",
    "    return cutout_data"
   ]
  },
  {
   "cell_type": "markdown",
   "id": "20838088-3227-49ad-9433-1f957eec1a58",
   "metadata": {},
   "source": [
    "### Testing"
   ]
  },
  {
   "cell_type": "code",
   "execution_count": 11,
   "id": "1d972e23-ca7b-4d49-bb9d-83b112421183",
   "metadata": {},
   "outputs": [],
   "source": [
    "data = read_h5(file_path_class)"
   ]
  },
  {
   "cell_type": "code",
   "execution_count": 12,
   "id": "406f9d49-eb86-43e5-8dec-f06d5585ba68",
   "metadata": {},
   "outputs": [
    {
     "data": {
      "text/plain": [
       "(6000, 9, 64, 64)"
      ]
     },
     "execution_count": 12,
     "metadata": {},
     "output_type": "execute_result"
    }
   ],
   "source": [
    "data['cutouts'].shape"
   ]
  },
  {
   "cell_type": "code",
   "execution_count": 11,
   "id": "81eca159-ccff-4e78-b346-5f621c323c92",
   "metadata": {},
   "outputs": [
    {
     "data": {
      "image/png": "[encoded data removed]",
      "text/plain": [
       "<Figure size 640x480 with 1 Axes>"
      ]
     },
     "metadata": {},
     "output_type": "display_data"
    }
   ],
   "source": [
    "plt.figure()\n",
    "plt.hist(data['class'])\n",
    "plt.show()"
   ]
  },
  {
   "cell_type": "code",
   "execution_count": 24,
   "id": "6cf09396-7cb1-4590-bf7a-297819d27eaf",
   "metadata": {},
   "outputs": [
    {
     "data": {
      "text/plain": [
       "array([b'qso', b'qso', b'qso', b'qso', b'qso', b'qso', b'qso', b'qso',\n",
       "       b'qso', b'qso', b'qso', b'qso', b'qso', b'qso', b'qso', b'qso',\n",
       "       b'qso', b'qso', b'qso', b'qso', b'qso', b'qso', b'qso', b'qso',\n",
       "       b'qso', b'qso', b'qso', b'qso', b'qso', b'qso', b'qso', b'qso',\n",
       "       b'qso', b'qso', b'qso', b'qso', b'qso', b'qso', b'qso', b'qso',\n",
       "       b'qso', b'qso', b'qso', b'qso', b'qso', b'qso', b'qso', b'qso',\n",
       "       b'qso', b'qso'], dtype=object)"
      ]
     },
     "execution_count": 24,
     "metadata": {},
     "output_type": "execute_result"
    }
   ],
   "source": [
    "data['class name'][2000:2050]"
   ]
  },
  {
   "cell_type": "code",
   "execution_count": 31,
   "id": "af0abf01-d49d-4020-ae43-a78c42abd8d4",
   "metadata": {},
   "outputs": [],
   "source": [
    "test = [1 ,-1., 2.]"
   ]
  },
  {
   "cell_type": "code",
   "execution_count": 32,
   "id": "113cf599-59b9-4a1b-b619-3a7a3ce6a822",
   "metadata": {},
   "outputs": [
    {
     "data": {
      "text/plain": [
       "2.0"
      ]
     },
     "execution_count": 32,
     "metadata": {},
     "output_type": "execute_result"
    }
   ],
   "source": [
    "test[-1]"
   ]
  },
  {
   "cell_type": "code",
   "execution_count": 10,
   "id": "8bed9fb4-3742-40da-97ac-bfd50dad10c6",
   "metadata": {},
   "outputs": [
    {
     "name": "stdout",
     "output_type": "stream",
     "text": [
      "no\n"
     ]
    }
   ],
   "source": [
    "num_batches = None\n",
    "if num_batches:\n",
    "    print('yes')\n",
    "else:\n",
    "    print('no')"
   ]
  },
  {
   "cell_type": "code",
   "execution_count": 2,
   "id": "32860c53-1e74-4dde-9328-fcc3b15dc5ef",
   "metadata": {},
   "outputs": [],
   "source": [
    "bands = ['G', 'I', 'R', 'Y', 'Z', 'NB0387', 'NB0816', 'NB0921', 'NB1010']"
   ]
  },
  {
   "cell_type": "code",
   "execution_count": 14,
   "id": "d759da0b-9a3e-458c-a033-02e44247d72e",
   "metadata": {},
   "outputs": [
    {
     "data": {
      "text/plain": [
       "5"
      ]
     },
     "execution_count": 14,
     "metadata": {},
     "output_type": "execute_result"
    }
   ],
   "source": [
    "bands.index('NB0387')"
   ]
  },
  {
   "cell_type": "code",
   "execution_count": 39,
   "id": "70598992-0f4e-4cc8-8d52-ce5dbbf42fdb",
   "metadata": {},
   "outputs": [],
   "source": [
    "def get_band_indices(bands):\n",
    "    band_order = ['G', 'I', 'R', 'Y', 'Z', 'NB0387', 'NB0816', 'NB0921', 'NB1010']\n",
    "    band_idx_list = sorted([band_order.index(band) for band in bands])\n",
    "    if len(band_idx_list) == 0:\n",
    "        logger.error('Band index list is empty.')\n",
    "    return band_idx_list"
   ]
  },
  {
   "cell_type": "code",
   "execution_count": 33,
   "id": "508b42ba-0420-41f0-bec8-92490c71c27f",
   "metadata": {},
   "outputs": [],
   "source": [
    "bands_test = ['R', 'G', 'Z']\n",
    "band_idxs = get_band_indices(bands_test)"
   ]
  },
  {
   "cell_type": "code",
   "execution_count": 40,
   "id": "af43f3a6-a54f-43b4-80dd-c51bc9465ee9",
   "metadata": {},
   "outputs": [
    {
     "data": {
      "text/plain": [
       "[0, 2, 4]"
      ]
     },
     "execution_count": 40,
     "metadata": {},
     "output_type": "execute_result"
    }
   ],
   "source": [
    "band_idxs"
   ]
  },
  {
   "cell_type": "code",
   "execution_count": 34,
   "id": "3a02b062-e5bf-413c-84aa-211c1c1eecc6",
   "metadata": {},
   "outputs": [
    {
     "data": {
      "text/plain": [
       "(111, 3, 64, 64)"
      ]
     },
     "execution_count": 34,
     "metadata": {},
     "output_type": "execute_result"
    }
   ],
   "source": [
    "data['cutouts'][345:456][:,band_idxs, :, :].shape"
   ]
  },
  {
   "cell_type": "code",
   "execution_count": 38,
   "id": "78094d3f-c242-4062-af3c-9c4d9902e10f",
   "metadata": {},
   "outputs": [],
   "source": [
    "empty_list = []"
   ]
  },
  {
   "cell_type": "code",
   "execution_count": null,
   "id": "d6db0744-4ae6-4c5e-8399-18895641b801",
   "metadata": {},
   "outputs": [],
   "source": []
  }
 ],
 "metadata": {
  "kernelspec": {
   "display_name": "Python 3 (ipykernel)",
   "language": "python",
   "name": "python3"
  },
  "language_info": {
   "codemirror_mode": {
    "name": "ipython",
    "version": 3
   },
   "file_extension": ".py",
   "mimetype": "text/x-python",
   "name": "python",
   "nbconvert_exporter": "python",
   "pygments_lexer": "ipython3",
   "version": "3.11.5"
  }
 },
 "nbformat": 4,
 "nbformat_minor": 5
}
