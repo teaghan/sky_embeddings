{
 "cells": [
  {
   "cell_type": "code",
   "execution_count": 9,
   "id": "177c0691-f459-420d-b87a-5ecd596abbf7",
   "metadata": {
    "execution": {
     "iopub.execute_input": "2024-01-02T21:37:04.117238Z",
     "iopub.status.busy": "2024-01-02T21:37:04.115704Z",
     "iopub.status.idle": "2024-01-02T21:37:08.859236Z",
     "shell.execute_reply": "2024-01-02T21:37:08.858498Z",
     "shell.execute_reply.started": "2024-01-02T21:37:04.117186Z"
    },
    "tags": []
   },
   "outputs": [
    {
     "data": {
      "text/html": [
       "<div>\n",
       "<style scoped>\n",
       "    .dataframe tbody tr th:only-of-type {\n",
       "        vertical-align: middle;\n",
       "    }\n",
       "\n",
       "    .dataframe tbody tr th {\n",
       "        vertical-align: top;\n",
       "    }\n",
       "\n",
       "    .dataframe thead th {\n",
       "        text-align: right;\n",
       "    }\n",
       "</style>\n",
       "<table border=\"1\" class=\"dataframe\">\n",
       "  <thead>\n",
       "    <tr style=\"text-align: right;\">\n",
       "      <th></th>\n",
       "      <th>ra</th>\n",
       "      <th>dec</th>\n",
       "      <th>cspec</th>\n",
       "      <th>zspec</th>\n",
       "      <th>zspec_err</th>\n",
       "    </tr>\n",
       "  </thead>\n",
       "  <tbody>\n",
       "    <tr>\n",
       "      <th>0</th>\n",
       "      <td>105.090275</td>\n",
       "      <td>55.944260</td>\n",
       "      <td>2.0</td>\n",
       "      <td>0.052865</td>\n",
       "      <td>0.000000</td>\n",
       "    </tr>\n",
       "    <tr>\n",
       "      <th>1</th>\n",
       "      <td>104.542046</td>\n",
       "      <td>55.655732</td>\n",
       "      <td>2.0</td>\n",
       "      <td>NaN</td>\n",
       "      <td>NaN</td>\n",
       "    </tr>\n",
       "    <tr>\n",
       "      <th>2</th>\n",
       "      <td>104.525368</td>\n",
       "      <td>55.694256</td>\n",
       "      <td>2.0</td>\n",
       "      <td>NaN</td>\n",
       "      <td>NaN</td>\n",
       "    </tr>\n",
       "    <tr>\n",
       "      <th>3</th>\n",
       "      <td>104.306342</td>\n",
       "      <td>55.712509</td>\n",
       "      <td>2.0</td>\n",
       "      <td>0.073474</td>\n",
       "      <td>0.005367</td>\n",
       "    </tr>\n",
       "    <tr>\n",
       "      <th>4</th>\n",
       "      <td>104.493561</td>\n",
       "      <td>55.859717</td>\n",
       "      <td>2.0</td>\n",
       "      <td>NaN</td>\n",
       "      <td>NaN</td>\n",
       "    </tr>\n",
       "    <tr>\n",
       "      <th>...</th>\n",
       "      <td>...</td>\n",
       "      <td>...</td>\n",
       "      <td>...</td>\n",
       "      <td>...</td>\n",
       "      <td>...</td>\n",
       "    </tr>\n",
       "    <tr>\n",
       "      <th>37614611</th>\n",
       "      <td>123.301180</td>\n",
       "      <td>21.612846</td>\n",
       "      <td>NaN</td>\n",
       "      <td>-0.000062</td>\n",
       "      <td>0.000000</td>\n",
       "    </tr>\n",
       "    <tr>\n",
       "      <th>37614612</th>\n",
       "      <td>122.335810</td>\n",
       "      <td>23.984413</td>\n",
       "      <td>NaN</td>\n",
       "      <td>0.000103</td>\n",
       "      <td>0.000000</td>\n",
       "    </tr>\n",
       "    <tr>\n",
       "      <th>37614613</th>\n",
       "      <td>120.626650</td>\n",
       "      <td>24.823030</td>\n",
       "      <td>NaN</td>\n",
       "      <td>0.000162</td>\n",
       "      <td>0.000000</td>\n",
       "    </tr>\n",
       "    <tr>\n",
       "      <th>37614614</th>\n",
       "      <td>348.389333</td>\n",
       "      <td>-29.018333</td>\n",
       "      <td>NaN</td>\n",
       "      <td>0.028470</td>\n",
       "      <td>0.000000</td>\n",
       "    </tr>\n",
       "    <tr>\n",
       "      <th>37614615</th>\n",
       "      <td>241.677333</td>\n",
       "      <td>15.593028</td>\n",
       "      <td>NaN</td>\n",
       "      <td>0.038820</td>\n",
       "      <td>0.000000</td>\n",
       "    </tr>\n",
       "  </tbody>\n",
       "</table>\n",
       "<p>37614616 rows × 5 columns</p>\n",
       "</div>"
      ],
      "text/plain": [
       "                  ra        dec  cspec     zspec  zspec_err\n",
       "0         105.090275  55.944260    2.0  0.052865   0.000000\n",
       "1         104.542046  55.655732    2.0       NaN        NaN\n",
       "2         104.525368  55.694256    2.0       NaN        NaN\n",
       "3         104.306342  55.712509    2.0  0.073474   0.005367\n",
       "4         104.493561  55.859717    2.0       NaN        NaN\n",
       "...              ...        ...    ...       ...        ...\n",
       "37614611  123.301180  21.612846    NaN -0.000062   0.000000\n",
       "37614612  122.335810  23.984413    NaN  0.000103   0.000000\n",
       "37614613  120.626650  24.823030    NaN  0.000162   0.000000\n",
       "37614614  348.389333 -29.018333    NaN  0.028470   0.000000\n",
       "37614615  241.677333  15.593028    NaN  0.038820   0.000000\n",
       "\n",
       "[37614616 rows x 5 columns]"
      ]
     },
     "execution_count": 9,
     "metadata": {},
     "output_type": "execute_result"
    }
   ],
   "source": [
    "import pandas as pd\n",
    "\n",
    "#labels = pd.read_parquet('/arc/projects/unions/catalogues/redshifts/redshifts-v1.parquet')#.dropna()\n",
    "labels = pd.read_parquet('/arc/projects/unions/catalogues/redshifts/redshifts-2023-12-22.parquet')#.dropna()\n",
    "\n",
    "labels"
   ]
  },
  {
   "cell_type": "markdown",
   "id": "91253ff8-c101-4c4c-921d-bc84ef6fed80",
   "metadata": {},
   "source": [
    "cspec: {0:unknown, 1:star, 2:galaxy, 3:qso}"
   ]
  },
  {
   "cell_type": "code",
   "execution_count": 2,
   "id": "c67f268d-9ad8-4d62-a40d-02e04a075591",
   "metadata": {
    "execution": {
     "iopub.execute_input": "2023-12-23T01:14:57.524988Z",
     "iopub.status.busy": "2023-12-23T01:14:57.524621Z",
     "iopub.status.idle": "2023-12-23T01:15:26.577443Z",
     "shell.execute_reply": "2023-12-23T01:15:26.575810Z",
     "shell.execute_reply.started": "2023-12-23T01:14:57.524960Z"
    },
    "tags": []
   },
   "outputs": [],
   "source": [
    "labels[labels['cspec']==2].to_csv('../data/galaxies.csv', index=False)"
   ]
  },
  {
   "cell_type": "code",
   "execution_count": 3,
   "id": "2aedb82a-1237-4a56-9e6e-65fedc877c70",
   "metadata": {
    "execution": {
     "iopub.execute_input": "2023-12-23T01:15:26.579253Z",
     "iopub.status.busy": "2023-12-23T01:15:26.578992Z",
     "iopub.status.idle": "2023-12-23T01:15:41.967367Z",
     "shell.execute_reply": "2023-12-23T01:15:41.966208Z",
     "shell.execute_reply.started": "2023-12-23T01:15:26.579227Z"
    },
    "tags": []
   },
   "outputs": [],
   "source": [
    "labels[labels['cspec']==3].to_csv('../data/qso.csv', index=False)"
   ]
  },
  {
   "cell_type": "code",
   "execution_count": 4,
   "id": "62658b50-1770-4ddc-b54e-bac0d023335c",
   "metadata": {
    "execution": {
     "iopub.execute_input": "2023-12-23T01:15:41.969036Z",
     "iopub.status.busy": "2023-12-23T01:15:41.968685Z",
     "iopub.status.idle": "2023-12-23T01:17:36.062348Z",
     "shell.execute_reply": "2023-12-23T01:17:36.061310Z",
     "shell.execute_reply.started": "2023-12-23T01:15:41.968981Z"
    },
    "tags": []
   },
   "outputs": [],
   "source": [
    "labels[labels['cspec']==1].to_csv('../data/stars.csv', index=False)"
   ]
  },
  {
   "cell_type": "code",
   "execution_count": 5,
   "id": "e9e8e802-51dd-4e4b-9a27-2017f6e79365",
   "metadata": {
    "execution": {
     "iopub.execute_input": "2023-12-23T01:17:36.065312Z",
     "iopub.status.busy": "2023-12-23T01:17:36.064992Z",
     "iopub.status.idle": "2023-12-23T01:17:41.517423Z",
     "shell.execute_reply": "2023-12-23T01:17:41.516354Z",
     "shell.execute_reply.started": "2023-12-23T01:17:36.065287Z"
    },
    "tags": []
   },
   "outputs": [],
   "source": [
    "labels[labels['cspec']==0].to_csv('../data/unkown.csv', index=False)"
   ]
  },
  {
   "cell_type": "code",
   "execution_count": 10,
   "id": "02b39a70-7c9c-4e1d-8e22-aea6772be3af",
   "metadata": {
    "execution": {
     "iopub.execute_input": "2024-01-02T21:37:10.220655Z",
     "iopub.status.busy": "2024-01-02T21:37:10.220111Z",
     "iopub.status.idle": "2024-01-02T21:40:45.972194Z",
     "shell.execute_reply": "2024-01-02T21:40:45.970863Z",
     "shell.execute_reply.started": "2024-01-02T21:37:10.220612Z"
    }
   },
   "outputs": [],
   "source": [
    "labels.dropna(subset=['zspec']).to_csv('../data/zspec.csv', index=False)"
   ]
  },
  {
   "cell_type": "code",
   "execution_count": null,
   "id": "472b9b87-1cbd-47fb-a79b-9936f01246fe",
   "metadata": {},
   "outputs": [],
   "source": []
  }
 ],
 "metadata": {
  "kernelspec": {
   "display_name": "Python 3 (ipykernel)",
   "language": "python",
   "name": "python3"
  },
  "language_info": {
   "codemirror_mode": {
    "name": "ipython",
    "version": 3
   },
   "file_extension": ".py",
   "mimetype": "text/x-python",
   "name": "python",
   "nbconvert_exporter": "python",
   "pygments_lexer": "ipython3",
   "version": "3.10.13"
  }
 },
 "nbformat": 4,
 "nbformat_minor": 5
}
