{
 "cells": [
  {
   "cell_type": "markdown",
   "id": "d93af4be-c7c4-4cac-ba55-09ee3e61fca7",
   "metadata": {},
   "source": [
    "# Cross-Referencing Datasets\n",
    "\n",
    "Using the HSC SSP catalogue of objects with spectroscopic redshift estimates with a catalogue of objects that have been classified as stars, QSOs, galaxies, or unknown.\n",
    "\n",
    "We will use these cross-referenced datasets as the basis for validating our Masked Image Modelling approach to developing meaningful embeddings of HSC images.\n",
    "\n",
    "By creating `.csv` files with the RA, Dec, and redshift measurements of each object, we can then use this information to index into the HSV image data to create datasets of 64$\\times$ 64 cutouts around each object."
   ]
  },
  {
   "cell_type": "code",
   "execution_count": 1,
   "id": "6028572e-f232-40aa-b337-d6dddcdb2a57",
   "metadata": {},
   "outputs": [],
   "source": [
    "import pandas as pd\n",
    "import matplotlib.pyplot as plt\n",
    "import numpy as np\n",
    "import math\n",
    "import h5py\n",
    "import os\n",
    "import sys\n",
    "from scipy.spatial import cKDTree\n",
    "import time\n",
    "\n",
    "# from plotting_fns import normalize_images, display_images"
   ]
  },
  {
   "cell_type": "markdown",
   "id": "4e5f3413-a742-4a66-a18c-ce0542a8298a",
   "metadata": {},
   "source": [
    "### Load the classification data.\n",
    "\n",
    "`cspec: {0:unknown, 1:star, 2:galaxy, 3:qso}`"
   ]
  },
  {
   "cell_type": "code",
   "execution_count": 2,
   "id": "60b5d0e5-52c8-4e1e-a44e-ca5266bcc585",
   "metadata": {},
   "outputs": [
    {
     "data": {
      "text/html": [
       "<div>\n",
       "<style scoped>\n",
       "    .dataframe tbody tr th:only-of-type {\n",
       "        vertical-align: middle;\n",
       "    }\n",
       "\n",
       "    .dataframe tbody tr th {\n",
       "        vertical-align: top;\n",
       "    }\n",
       "\n",
       "    .dataframe thead th {\n",
       "        text-align: right;\n",
       "    }\n",
       "</style>\n",
       "<table border=\"1\" class=\"dataframe\">\n",
       "  <thead>\n",
       "    <tr style=\"text-align: right;\">\n",
       "      <th></th>\n",
       "      <th>ra</th>\n",
       "      <th>dec</th>\n",
       "      <th>cspec</th>\n",
       "      <th>zspec</th>\n",
       "      <th>zspec_err</th>\n",
       "    </tr>\n",
       "  </thead>\n",
       "  <tbody>\n",
       "    <tr>\n",
       "      <th>0</th>\n",
       "      <td>24.837864</td>\n",
       "      <td>31.987288</td>\n",
       "      <td>2.0</td>\n",
       "      <td>0.373586</td>\n",
       "      <td>0.0</td>\n",
       "    </tr>\n",
       "    <tr>\n",
       "      <th>1</th>\n",
       "      <td>24.834875</td>\n",
       "      <td>32.031507</td>\n",
       "      <td>2.0</td>\n",
       "      <td>0.783066</td>\n",
       "      <td>0.0</td>\n",
       "    </tr>\n",
       "    <tr>\n",
       "      <th>2</th>\n",
       "      <td>24.291261</td>\n",
       "      <td>31.900061</td>\n",
       "      <td>1.0</td>\n",
       "      <td>0.000045</td>\n",
       "      <td>0.0</td>\n",
       "    </tr>\n",
       "    <tr>\n",
       "      <th>3</th>\n",
       "      <td>24.347372</td>\n",
       "      <td>31.805734</td>\n",
       "      <td>2.0</td>\n",
       "      <td>1.071963</td>\n",
       "      <td>0.0</td>\n",
       "    </tr>\n",
       "    <tr>\n",
       "      <th>4</th>\n",
       "      <td>24.270095</td>\n",
       "      <td>31.874742</td>\n",
       "      <td>2.0</td>\n",
       "      <td>0.812852</td>\n",
       "      <td>0.0</td>\n",
       "    </tr>\n",
       "    <tr>\n",
       "      <th>...</th>\n",
       "      <td>...</td>\n",
       "      <td>...</td>\n",
       "      <td>...</td>\n",
       "      <td>...</td>\n",
       "      <td>...</td>\n",
       "    </tr>\n",
       "    <tr>\n",
       "      <th>55225810</th>\n",
       "      <td>320.101000</td>\n",
       "      <td>-63.718700</td>\n",
       "      <td>NaN</td>\n",
       "      <td>0.021837</td>\n",
       "      <td>0.0</td>\n",
       "    </tr>\n",
       "    <tr>\n",
       "      <th>55225811</th>\n",
       "      <td>13.091700</td>\n",
       "      <td>31.442220</td>\n",
       "      <td>NaN</td>\n",
       "      <td>0.015593</td>\n",
       "      <td>0.0</td>\n",
       "    </tr>\n",
       "    <tr>\n",
       "      <th>55225812</th>\n",
       "      <td>118.893000</td>\n",
       "      <td>29.173060</td>\n",
       "      <td>NaN</td>\n",
       "      <td>0.021234</td>\n",
       "      <td>0.0</td>\n",
       "    </tr>\n",
       "    <tr>\n",
       "      <th>55225813</th>\n",
       "      <td>133.058000</td>\n",
       "      <td>1.460280</td>\n",
       "      <td>NaN</td>\n",
       "      <td>0.204486</td>\n",
       "      <td>0.0</td>\n",
       "    </tr>\n",
       "    <tr>\n",
       "      <th>55225814</th>\n",
       "      <td>229.409000</td>\n",
       "      <td>5.707180</td>\n",
       "      <td>NaN</td>\n",
       "      <td>0.174091</td>\n",
       "      <td>0.0</td>\n",
       "    </tr>\n",
       "  </tbody>\n",
       "</table>\n",
       "<p>55225815 rows × 5 columns</p>\n",
       "</div>"
      ],
      "text/plain": [
       "                  ra        dec  cspec     zspec  zspec_err\n",
       "0          24.837864  31.987288    2.0  0.373586        0.0\n",
       "1          24.834875  32.031507    2.0  0.783066        0.0\n",
       "2          24.291261  31.900061    1.0  0.000045        0.0\n",
       "3          24.347372  31.805734    2.0  1.071963        0.0\n",
       "4          24.270095  31.874742    2.0  0.812852        0.0\n",
       "...              ...        ...    ...       ...        ...\n",
       "55225810  320.101000 -63.718700    NaN  0.021837        0.0\n",
       "55225811   13.091700  31.442220    NaN  0.015593        0.0\n",
       "55225812  118.893000  29.173060    NaN  0.021234        0.0\n",
       "55225813  133.058000   1.460280    NaN  0.204486        0.0\n",
       "55225814  229.409000   5.707180    NaN  0.174091        0.0\n",
       "\n",
       "[55225815 rows x 5 columns]"
      ]
     },
     "execution_count": 2,
     "metadata": {},
     "output_type": "execute_result"
    }
   ],
   "source": [
    "class_labels = pd.read_parquet('/home/nick/astro/sky_embeddings/data/redshifts-2024-05-07.parquet')\n",
    "class_indices = {'unkown': 0, 'star': 1, 'galaxy': 2, 'qso': 3}\n",
    "class_labels"
   ]
  },
  {
   "cell_type": "markdown",
   "id": "ba6c793b-17d0-4123-b166-d93f1694b262",
   "metadata": {},
   "source": [
    "### Load the HSC SSP catalogue"
   ]
  },
  {
   "cell_type": "code",
   "execution_count": 3,
   "id": "c91e1fa6-dc48-460b-9adf-cb8fa6c87e67",
   "metadata": {},
   "outputs": [
    {
     "data": {
      "text/html": [
       "<div>\n",
       "<style scoped>\n",
       "    .dataframe tbody tr th:only-of-type {\n",
       "        vertical-align: middle;\n",
       "    }\n",
       "\n",
       "    .dataframe tbody tr th {\n",
       "        vertical-align: top;\n",
       "    }\n",
       "\n",
       "    .dataframe thead th {\n",
       "        text-align: right;\n",
       "    }\n",
       "</style>\n",
       "<table border=\"1\" class=\"dataframe\">\n",
       "  <thead>\n",
       "    <tr style=\"text-align: right;\">\n",
       "      <th></th>\n",
       "      <th>ra</th>\n",
       "      <th>dec</th>\n",
       "      <th>zspec</th>\n",
       "      <th>zspec_err</th>\n",
       "      <th>cspec</th>\n",
       "      <th>origin</th>\n",
       "    </tr>\n",
       "  </thead>\n",
       "  <tbody>\n",
       "    <tr>\n",
       "      <th>36353</th>\n",
       "      <td>215.096588</td>\n",
       "      <td>52.918053</td>\n",
       "      <td>0.010000</td>\n",
       "      <td>0.006500</td>\n",
       "      <td>0</td>\n",
       "      <td>HSC-SSP</td>\n",
       "    </tr>\n",
       "    <tr>\n",
       "      <th>36412</th>\n",
       "      <td>215.224091</td>\n",
       "      <td>53.002052</td>\n",
       "      <td>0.010000</td>\n",
       "      <td>0.006500</td>\n",
       "      <td>0</td>\n",
       "      <td>HSC-SSP</td>\n",
       "    </tr>\n",
       "    <tr>\n",
       "      <th>36422</th>\n",
       "      <td>215.190826</td>\n",
       "      <td>52.979145</td>\n",
       "      <td>0.010000</td>\n",
       "      <td>0.006500</td>\n",
       "      <td>0</td>\n",
       "      <td>HSC-SSP</td>\n",
       "    </tr>\n",
       "    <tr>\n",
       "      <th>36526</th>\n",
       "      <td>215.039642</td>\n",
       "      <td>52.872917</td>\n",
       "      <td>0.015400</td>\n",
       "      <td>0.010000</td>\n",
       "      <td>0</td>\n",
       "      <td>HSC-SSP</td>\n",
       "    </tr>\n",
       "    <tr>\n",
       "      <th>36555</th>\n",
       "      <td>215.223282</td>\n",
       "      <td>53.005901</td>\n",
       "      <td>0.010000</td>\n",
       "      <td>0.006500</td>\n",
       "      <td>0</td>\n",
       "      <td>HSC-SSP</td>\n",
       "    </tr>\n",
       "    <tr>\n",
       "      <th>...</th>\n",
       "      <td>...</td>\n",
       "      <td>...</td>\n",
       "      <td>...</td>\n",
       "      <td>...</td>\n",
       "      <td>...</td>\n",
       "      <td>...</td>\n",
       "    </tr>\n",
       "    <tr>\n",
       "      <th>3958938</th>\n",
       "      <td>353.040080</td>\n",
       "      <td>33.849074</td>\n",
       "      <td>1.646680</td>\n",
       "      <td>0.000450</td>\n",
       "      <td>0</td>\n",
       "      <td>HSC-SSP</td>\n",
       "    </tr>\n",
       "    <tr>\n",
       "      <th>3958939</th>\n",
       "      <td>353.970210</td>\n",
       "      <td>33.985932</td>\n",
       "      <td>0.540920</td>\n",
       "      <td>0.000182</td>\n",
       "      <td>0</td>\n",
       "      <td>HSC-SSP</td>\n",
       "    </tr>\n",
       "    <tr>\n",
       "      <th>3958940</th>\n",
       "      <td>357.021430</td>\n",
       "      <td>34.957792</td>\n",
       "      <td>2.215620</td>\n",
       "      <td>0.000388</td>\n",
       "      <td>0</td>\n",
       "      <td>HSC-SSP</td>\n",
       "    </tr>\n",
       "    <tr>\n",
       "      <th>3958941</th>\n",
       "      <td>354.444530</td>\n",
       "      <td>35.443101</td>\n",
       "      <td>1.946709</td>\n",
       "      <td>0.000522</td>\n",
       "      <td>0</td>\n",
       "      <td>HSC-SSP</td>\n",
       "    </tr>\n",
       "    <tr>\n",
       "      <th>3958942</th>\n",
       "      <td>339.193250</td>\n",
       "      <td>27.348370</td>\n",
       "      <td>0.452637</td>\n",
       "      <td>0.000087</td>\n",
       "      <td>0</td>\n",
       "      <td>HSC-SSP</td>\n",
       "    </tr>\n",
       "  </tbody>\n",
       "</table>\n",
       "<p>3538411 rows × 6 columns</p>\n",
       "</div>"
      ],
      "text/plain": [
       "                 ra        dec     zspec  zspec_err  cspec   origin\n",
       "36353    215.096588  52.918053  0.010000   0.006500      0  HSC-SSP\n",
       "36412    215.224091  53.002052  0.010000   0.006500      0  HSC-SSP\n",
       "36422    215.190826  52.979145  0.010000   0.006500      0  HSC-SSP\n",
       "36526    215.039642  52.872917  0.015400   0.010000      0  HSC-SSP\n",
       "36555    215.223282  53.005901  0.010000   0.006500      0  HSC-SSP\n",
       "...             ...        ...       ...        ...    ...      ...\n",
       "3958938  353.040080  33.849074  1.646680   0.000450      0  HSC-SSP\n",
       "3958939  353.970210  33.985932  0.540920   0.000182      0  HSC-SSP\n",
       "3958940  357.021430  34.957792  2.215620   0.000388      0  HSC-SSP\n",
       "3958941  354.444530  35.443101  1.946709   0.000522      0  HSC-SSP\n",
       "3958942  339.193250  27.348370  0.452637   0.000087      0  HSC-SSP\n",
       "\n",
       "[3538411 rows x 6 columns]"
      ]
     },
     "execution_count": 3,
     "metadata": {},
     "output_type": "execute_result"
    }
   ],
   "source": [
    "hsc_labels = pd.read_parquet('/home/nick/astro/sky_embeddings/data/hsc_ssp.parquet')\n",
    "hsc_labels"
   ]
  },
  {
   "cell_type": "code",
   "execution_count": 13,
   "id": "9c160a86-a2af-4265-9f89-36b9257223d1",
   "metadata": {},
   "outputs": [
    {
     "data": {
      "text/plain": [
       "3533577"
      ]
     },
     "execution_count": 13,
     "metadata": {},
     "output_type": "execute_result"
    }
   ],
   "source": [
    "np.count_nonzero(hsc_labels['zspec'].values > 0.)"
   ]
  },
  {
   "cell_type": "code",
   "execution_count": 4,
   "id": "9e27d147-df03-4330-b7aa-da471b310cc3",
   "metadata": {},
   "outputs": [],
   "source": [
    "def deg_to_cartesian(ra, dec):\n",
    "    # Convert RA and DEC to radians for spatial indexing\n",
    "    ra = np.radians(ra)\n",
    "    dec = np.radians(dec)\n",
    "    # Convert to Cartesian coordinates\n",
    "    return np.cos(ra) * np.cos(dec), np.sin(ra) * np.cos(dec), np.sin(dec)\n",
    "\n",
    "def create_kdtree(ra, dec):\n",
    "    '''Function to create a KDTree for efficient spatial searches.'''\n",
    "    # Convert to Cartesian coordinates for KDTree\n",
    "    x, y, z = deg_to_cartesian(ra, dec)\n",
    "    coords = np.vstack((x, y, z)).T\n",
    "    return cKDTree(coords)\n",
    "\n",
    "tolerance = 1/3600  # Tolerance in degrees\n",
    "tolerance_rad = np.radians(tolerance)  # Convert tolerance to radians"
   ]
  },
  {
   "cell_type": "markdown",
   "id": "8fab1f14-f0de-46dc-9c59-54e83b5ce692",
   "metadata": {
    "execution": {
     "iopub.execute_input": "2024-03-02T21:35:34.731570Z",
     "iopub.status.busy": "2024-03-02T21:35:34.730978Z",
     "iopub.status.idle": "2024-03-02T21:35:34.738391Z",
     "shell.execute_reply": "2024-03-02T21:35:34.737563Z",
     "shell.execute_reply.started": "2024-03-02T21:35:34.731526Z"
    }
   },
   "source": [
    "### Remove duplicates in HSC catalogue."
   ]
  },
  {
   "cell_type": "code",
   "execution_count": 5,
   "id": "33dac35c-47f3-4254-b81b-4a113073bbc9",
   "metadata": {},
   "outputs": [
    {
     "name": "stdout",
     "output_type": "stream",
     "text": [
      "Removed 4834 duplicates.\n"
     ]
    }
   ],
   "source": [
    "# Create HSC KDTree to remove duplicates\n",
    "hsc_kdtree = create_kdtree(hsc_labels['ra'].values, \n",
    "                           hsc_labels['dec'].values)\n",
    "\n",
    "# Collect RA and Dec of HSC SSP data and \n",
    "# convert to Cartesian for search\n",
    "X, Y, Z = deg_to_cartesian(hsc_labels['ra'].values, hsc_labels['dec'].values)\n",
    "\n",
    "# Remove duplicates\n",
    "good_indices = []\n",
    "for i, (x,y,z) in enumerate(zip(X,Y,Z)):\n",
    "    matches = hsc_kdtree.query_ball_point([x, y, z], r=tolerance_rad)\n",
    "    if len(matches)<2:\n",
    "        good_indices.append(i)\n",
    "\n",
    "print(f'Removed {(len(hsc_labels)-len(good_indices))} duplicates.')\n",
    "hsc_labels = hsc_labels.iloc[good_indices]"
   ]
  },
  {
   "cell_type": "markdown",
   "id": "02306159-7af5-4d07-863c-09556880619d",
   "metadata": {},
   "source": [
    "### Create class .csv files"
   ]
  },
  {
   "cell_type": "code",
   "execution_count": 6,
   "id": "3b89198d-a3d0-45a4-9db6-4922c78c43e5",
   "metadata": {
    "execution": {
     "iopub.execute_input": "2024-03-02T21:48:18.535955Z",
     "iopub.status.busy": "2024-03-02T21:48:18.535554Z",
     "iopub.status.idle": "2024-03-02T21:53:52.251623Z",
     "shell.execute_reply": "2024-03-02T21:53:52.250463Z",
     "shell.execute_reply.started": "2024-03-02T21:48:18.535927Z"
    }
   },
   "outputs": [
    {
     "name": "stdout",
     "output_type": "stream",
     "text": [
      "Found 70623 objects with the unkown class\n",
      "Found 509 objects with the star class\n",
      "Found 2740520 objects with the galaxy class\n",
      "Found 741174 objects with the qso class\n"
     ]
    }
   ],
   "source": [
    "# Select only a given class of objects and look for matching RA and Decs\n",
    "for class_name in ['unkown','star','galaxy','qso']:\n",
    "    class_index = class_indices[class_name]\n",
    "    # Create KDTree for this class\n",
    "    class_kdtree = create_kdtree(class_labels[class_labels['cspec']==class_index]['ra'].values, \n",
    "                                 class_labels[class_labels['cspec']==class_index]['dec'].values)\n",
    "    \n",
    "    # Collect RA and Dec of HSC SSP data and \n",
    "    # convert to Cartesian for search\n",
    "    X, Y, Z = deg_to_cartesian(hsc_labels['ra'].values, hsc_labels['dec'].values)\n",
    "    \n",
    "    # Find matching indices within tolerance\n",
    "    matching_indices = []\n",
    "    for i, (x,y,z) in enumerate(zip(X,Y,Z)):\n",
    "        class_matches = class_kdtree.query_ball_point([x, y, z], r=tolerance_rad)\n",
    "        if len(class_matches)>0:\n",
    "            matching_indices.append(i)\n",
    "    \n",
    "\n",
    "    print(f'Found {len(matching_indices)} objects with the {class_name} class')\n",
    "    # Write the DataFrame to a CSV file, including only the specified columns\n",
    "    hsc_labels.iloc[matching_indices].to_csv(f'../data/HSC_{class_name}.csv', \n",
    "                                             columns=['ra','dec','zspec','zspec_err'], index=False)"
   ]
  },
  {
   "cell_type": "code",
   "execution_count": 7,
   "id": "03c5aa3a-62ca-49db-9ac2-a083e67591f8",
   "metadata": {
    "execution": {
     "iopub.execute_input": "2024-03-29T19:18:04.244376Z",
     "iopub.status.busy": "2024-03-29T19:18:04.243992Z",
     "iopub.status.idle": "2024-03-29T19:18:43.945330Z",
     "shell.execute_reply": "2024-03-29T19:18:43.944373Z",
     "shell.execute_reply.started": "2024-03-29T19:18:04.244352Z"
    }
   },
   "outputs": [],
   "source": [
    "h5_dir = '/arc/projects/ots/HSC_h5/'\n",
    "h5_fns = ['HSC_galaxies_GRIZY_64_val_new.h5', \n",
    "          'HSC_qso_GRIZY_64_new.h5',\n",
    "          'HSC_stars_GRIZY_64_new.h5',\n",
    "          'HSC_unkown_GRIZY_64_new.h5']\n",
    "csv_dir = '../data/'\n",
    "csv_fns = ['HSC_galaxy_dud.csv', \n",
    "          'HSC_qso_dud.csv', \n",
    "          'HSC_star_dud.csv', \n",
    "          'HSC_unknown_dud.csv']\n",
    "\n",
    "for h5_fn, csv_fn in zip(h5_fns, csv_fns):\n",
    "    with h5py.File(os.path.join(h5_dir, h5_fn), \"r\") as f:\n",
    "        # Create a DataFrame from the extracted data\n",
    "        if 'zspec' in list(f.keys()):\n",
    "            df = pd.DataFrame({'ra': f['ra'][:],\n",
    "                               'dec': f['dec'][:],\n",
    "                               'zspec': f['zspec'][:]})\n",
    "        else:\n",
    "            df = pd.DataFrame({'ra': f['ra'][:],\n",
    "                               'dec': f['dec'][:]})\n",
    "        \n",
    "        # Write the DataFrame to a CSV file, without the index\n",
    "        df.to_csv(os.path.join(csv_dir, csv_fn), index=False)"
   ]
  },
  {
   "cell_type": "markdown",
   "id": "619d6d98-de50-49bb-9429-5b8f84338533",
   "metadata": {},
   "source": [
    "Update unkown file so that it doesn't have duplicates or objects in the other datasets."
   ]
  },
  {
   "cell_type": "code",
   "execution_count": null,
   "id": "8f6eb038-0fa1-45e3-85e9-c61b1fe0951d",
   "metadata": {},
   "outputs": [],
   "source": [
    "hsc_labels = pd.read_parquet('/arc/projects/unions/catalogues/redshifts/hsc_ssp.parquet')\n"
   ]
  },
  {
   "cell_type": "code",
   "execution_count": 18,
   "id": "53a04198-8cc3-490b-8f0b-db2e9e46725c",
   "metadata": {
    "execution": {
     "iopub.execute_input": "2024-03-02T23:51:22.266946Z",
     "iopub.status.busy": "2024-03-02T23:51:22.266354Z",
     "iopub.status.idle": "2024-03-02T23:51:23.016047Z",
     "shell.execute_reply": "2024-03-02T23:51:23.014891Z",
     "shell.execute_reply.started": "2024-03-02T23:51:22.266885Z"
    }
   },
   "outputs": [],
   "source": [
    "h5_dir = '/arc/projects/ots/HSC_h5/'\n",
    "h5_fns = ['HSC_galaxies_zspec_64_train.h5', \n",
    "          'HSC_galaxies_zspec_64_val.h5',\n",
    "          'HSC_galaxies_zspec_64_test.h5']\n",
    "csv_dir = '../data/'\n",
    "csv_fns = ['HSC_galaxy_dud_zspec_train.csv', \n",
    "          'HSC_galaxy_dud_zspec_val.csv', \n",
    "          'HSC_galaxy_dud_zspec_test.csv']\n",
    "\n",
    "for h5_fn, csv_fn in zip(h5_fns, csv_fns):\n",
    "    with h5py.File(os.path.join(h5_dir, h5_fn), \"r\") as f:\n",
    "        # Create a DataFrame from the extracted data\n",
    "        if 'zspec' in list(f.keys()):\n",
    "            df = pd.DataFrame({'ra': f['ra'][:],\n",
    "                               'dec': f['dec'][:],\n",
    "                               'zspec': f['zspec'][:]})\n",
    "        else:\n",
    "            df = pd.DataFrame({'ra': f['ra'][:],\n",
    "                               'dec': f['dec'][:]})\n",
    "        \n",
    "        # Write the DataFrame to a CSV file, without the index\n",
    "        df.to_csv(os.path.join(csv_dir, csv_fn), index=False)"
   ]
  },
  {
   "cell_type": "code",
   "execution_count": 19,
   "id": "9752decb-0b68-4d32-ad0c-470f09bf8bc2",
   "metadata": {
    "execution": {
     "iopub.execute_input": "2024-03-02T23:51:25.117108Z",
     "iopub.status.busy": "2024-03-02T23:51:25.116289Z",
     "iopub.status.idle": "2024-03-02T23:51:25.137847Z",
     "shell.execute_reply": "2024-03-02T23:51:25.137010Z",
     "shell.execute_reply.started": "2024-03-02T23:51:25.117078Z"
    }
   },
   "outputs": [
    {
     "name": "stdout",
     "output_type": "stream",
     "text": [
      "15446\n",
      "1921\n",
      "1934\n"
     ]
    }
   ],
   "source": [
    "for csv_fn in csv_fns:\n",
    "    print(len(pd.read_csv(os.path.join(csv_dir, csv_fn))))"
   ]
  },
  {
   "cell_type": "code",
   "execution_count": null,
   "id": "38952cfc-1de5-458b-b128-b4d13f7aa75f",
   "metadata": {},
   "outputs": [],
   "source": []
  }
 ],
 "metadata": {
  "kernelspec": {
   "display_name": "Python 3 (ipykernel)",
   "language": "python",
   "name": "python3"
  },
  "language_info": {
   "codemirror_mode": {
    "name": "ipython",
    "version": 3
   },
   "file_extension": ".py",
   "mimetype": "text/x-python",
   "name": "python",
   "nbconvert_exporter": "python",
   "pygments_lexer": "ipython3",
   "version": "3.11.5"
  }
 },
 "nbformat": 4,
 "nbformat_minor": 5
}
